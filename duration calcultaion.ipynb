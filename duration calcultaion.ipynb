{
 "cells": [
  {
   "cell_type": "markdown",
   "metadata": {},
   "source": [
    "Section 1"
   ]
  },
  {
   "cell_type": "markdown",
   "metadata": {},
   "source": [
    "Question 1"
   ]
  },
  {
   "cell_type": "code",
   "execution_count": 79,
   "metadata": {},
   "outputs": [
    {
     "name": "stdout",
     "output_type": "stream",
     "text": [
      "Macaulay duration = 5.87 years.\n"
     ]
    }
   ],
   "source": [
    "def calculate_duration(face_value, coupon_rate, ytm, maturity):\n",
    "    cash_flows = [face_value * coupon_rate] * (maturity - 1) + [face_value * coupon_rate + face_value]\n",
    "    present_values = [cf / ((1 + ytm) ** year) for year, cf in enumerate(cash_flows, 1)]\n",
    "    weighted_cash_flows = [year * pv for year, pv in enumerate(present_values, 1)]\n",
    "    macaulay_duration = sum(weighted_cash_flows) / sum(present_values)\n",
    "    return macaulay_duration\n",
    "\n",
    "face_value = 1000\n",
    "coupon_rate = 0.10\n",
    "ytm = 0.10\n",
    "maturity = 8\n",
    "\n",
    "duration = calculate_duration(face_value, coupon_rate, ytm, maturity)\n",
    "print(f\"Macaulay duration = {duration:.2f} years.\")"
   ]
  },
  {
   "cell_type": "markdown",
   "metadata": {},
   "source": [
    "Question 2"
   ]
  },
  {
   "cell_type": "code",
   "execution_count": 80,
   "metadata": {},
   "outputs": [
    {
     "name": "stdout",
     "output_type": "stream",
     "text": [
      "Duration = 11.38\n"
     ]
    }
   ],
   "source": [
    "def bond_duration(face_value, coupon_rate, ytm, years, frequency):\n",
    "    total_periods = years * frequency\n",
    "    coupon_payment = face_value * coupon_rate / frequency\n",
    "    ytm_period = ytm / frequency\n",
    "\n",
    "    duration = 0\n",
    "    for t in range(1, total_periods + 1):\n",
    "        present_value = coupon_payment / ((1 + ytm_period)**t)\n",
    "        weighted_term = t * present_value\n",
    "        duration += weighted_term\n",
    "\n",
    "    # Calculate present value of the face value and add the weighted term to the duration\n",
    "    present_value_face_value = face_value / ((1 + ytm_period)**total_periods)\n",
    "    duration += total_periods * present_value_face_value\n",
    "\n",
    "    # Divide the sum of weighted terms by the bond's current price\n",
    "    bond_price = sum([coupon_payment / ((1 + ytm_period)**t) for t in range(1, total_periods + 1)]) + present_value_face_value\n",
    "    duration /= bond_price\n",
    "\n",
    "    return duration\n",
    "\n",
    "\n",
    "face_value = 1000\n",
    "coupon_rate = 0.1\n",
    "ytm = 0.1\n",
    "years = 8\n",
    "frequency = 2\n",
    "\n",
    "duration = bond_duration(face_value, coupon_rate, ytm, years, frequency)\n",
    "print(f\"Duration = {duration:.2f}\")"
   ]
  },
  {
   "cell_type": "markdown",
   "metadata": {},
   "source": [
    "Question 3"
   ]
  },
  {
   "cell_type": "code",
   "execution_count": 81,
   "metadata": {},
   "outputs": [
    {
     "name": "stdout",
     "output_type": "stream",
     "text": [
      "Duration = 6.74\n"
     ]
    }
   ],
   "source": [
    "face_value = 1000\n",
    "coupon_rate = 0.1\n",
    "ytm = 0.12\n",
    "years = 4\n",
    "frequency = 2\n",
    "\n",
    "duration_coupon_bond = bond_duration(face_value, coupon_rate, ytm, years, frequency)\n",
    "print(f\"Duration = {duration_coupon_bond:.2f}\")"
   ]
  },
  {
   "attachments": {},
   "cell_type": "markdown",
   "metadata": {},
   "source": [
    "a)in case of a zero coupon bond with YTM = 11.5%, the durations is equal to its time to maturity since there is only one cash flow.\n",
    "so DURATION = 4 YEARS\n",
    "\n",
    "b) Duration & maturity:\n",
    "\n",
    "*Maturity* is the bond's principal repayment term.\n",
    "*Duration* is the weighted average period before the bond's cash flows are collected. It determines the bond's interest rate sensitivity."
   ]
  },
  {
   "cell_type": "markdown",
   "metadata": {},
   "source": [
    "Question 4"
   ]
  },
  {
   "cell_type": "code",
   "execution_count": 82,
   "metadata": {},
   "outputs": [
    {
     "name": "stdout",
     "output_type": "stream",
     "text": [
      "Duration at 12% YTM = 9.85\n"
     ]
    }
   ],
   "source": [
    "#a)\n",
    "face_value = 1000\n",
    "coupon_rate = 0.12\n",
    "ytm = 0.12\n",
    "years = 7\n",
    "frequency = 2\n",
    "\n",
    "duration_12_percent = bond_duration(face_value, coupon_rate, ytm, years, frequency)\n",
    "print(f\"Duration at 12% YTM = {duration_12_percent:.2f}\")"
   ]
  },
  {
   "cell_type": "code",
   "execution_count": 83,
   "metadata": {},
   "outputs": [
    {
     "name": "stdout",
     "output_type": "stream",
     "text": [
      "Duration at 16% YTM = 9.42\n",
      "Duration at 18% YTM = 9.20\n"
     ]
    }
   ],
   "source": [
    "#b)\n",
    "ytm_16_percent = 0.16\n",
    "duration_16_percent = bond_duration(face_value, coupon_rate, ytm_16_percent, years, frequency)\n",
    "print(f\"Duration at 16% YTM = {duration_16_percent:.2f}\")\n",
    "\n",
    "ytm_18_percent = 0.18\n",
    "duration_18_percent = bond_duration(face_value, coupon_rate, ytm_18_percent, years, frequency)\n",
    "print(f\"Duration at 18% YTM = {duration_18_percent:.2f}\")"
   ]
  },
  {
   "cell_type": "code",
   "execution_count": 84,
   "metadata": {},
   "outputs": [
    {
     "name": "stdout",
     "output_type": "stream",
     "text": [
      "Duration at 10% YTM = 10.06\n",
      "Duration at 8% YTM  = 10.27\n"
     ]
    }
   ],
   "source": [
    "#c)\n",
    "ytm_10_percent = 0.1\n",
    "duration_10_percent = bond_duration(face_value, coupon_rate, ytm_10_percent, years, frequency)\n",
    "print(f\"Duration at 10% YTM = {duration_10_percent:.2f}\")\n",
    "\n",
    "ytm_8_percent = 0.08\n",
    "duration_8_percent = bond_duration(face_value, coupon_rate, ytm_8_percent, years, frequency)\n",
    "print(f\"Duration at 8% YTM  = {duration_8_percent:.2f}\")"
   ]
  },
  {
   "attachments": {},
   "cell_type": "markdown",
   "metadata": {},
   "source": [
    "d) Relationship b/w Duration and Yield to maturity From the results:\n",
    "YTM Increases bond duration decreases.\n",
    "Bond duration increases as YTM decreases.\n",
    "As YTM increases, future cash flows lose value, making earlier cash flows more valuable. Thus, the bond's cash flows received earlier. and vice-versa when YTM decreases. \n"
   ]
  },
  {
   "attachments": {},
   "cell_type": "markdown",
   "metadata": {},
   "source": [
    "Question 5 (on Excel)"
   ]
  },
  {
   "cell_type": "markdown",
   "metadata": {},
   "source": [
    "Section 2"
   ]
  },
  {
   "attachments": {},
   "cell_type": "markdown",
   "metadata": {},
   "source": [
    "Question 1"
   ]
  },
  {
   "cell_type": "code",
   "execution_count": 85,
   "metadata": {},
   "outputs": [],
   "source": [
    "def bond_convexity(face_value, coupon_rate, ytm, years, frequency):\n",
    "    total_periods = years * frequency\n",
    "    coupon_payment = face_value * coupon_rate / frequency\n",
    "    ytm_period = ytm / frequency\n",
    "\n",
    "    convexity = 0\n",
    "    for t in range(1, total_periods + 1):\n",
    "        convexity += (t * (t + 1) * coupon_payment) / ((1 + ytm_period)**(t + 2))\n",
    "\n",
    "    # Add the convexity contribution of the face value\n",
    "    convexity += (total_periods * (total_periods + 1) * face_value) / ((1 + ytm_period)**(total_periods + 2))\n",
    "\n",
    "    # Divide the sum by the bond's current price\n",
    "    bond_price = sum([coupon_payment / ((1 + ytm_period)**t) for t in range(1, total_periods + 1)]) + face_value / ((1 + ytm_period)**total_periods)\n",
    "    convexity /= bond_price\n",
    "\n",
    "    return convexity\n"
   ]
  },
  {
   "cell_type": "code",
   "execution_count": 86,
   "metadata": {},
   "outputs": [
    {
     "name": "stdout",
     "output_type": "stream",
     "text": [
      "Convexity = 154.28\n"
     ]
    }
   ],
   "source": [
    "face_value = 1000\n",
    "coupon_rate = 0.1\n",
    "ytm = 0.1\n",
    "years = 8\n",
    "frequency = 2\n",
    "\n",
    "convexity_semi_annual_bond = bond_convexity(face_value, coupon_rate, ytm, years, frequency)\n",
    "print(f\"Convexity = {convexity_semi_annual_bond:.2f}\")\n"
   ]
  },
  {
   "cell_type": "code",
   "execution_count": 87,
   "metadata": {},
   "outputs": [
    {
     "name": "stdout",
     "output_type": "stream",
     "text": [
      "Convexity (in years) = 38.57\n"
     ]
    }
   ],
   "source": [
    "Convexity = 154.28\n",
    "\n",
    "Convexity_years = Convexity/2**2\n",
    "\n",
    "print (f\"Convexity (in years) = {Convexity_years:.2f}\")\n"
   ]
  },
  {
   "cell_type": "markdown",
   "metadata": {},
   "source": [
    "Question 2"
   ]
  },
  {
   "cell_type": "code",
   "execution_count": 88,
   "metadata": {},
   "outputs": [
    {
     "name": "stdout",
     "output_type": "stream",
     "text": [
      "Convexity =  217.86\n"
     ]
    }
   ],
   "source": [
    "face_value = 1000\n",
    "coupon_rate = 0.2\n",
    "ytm = 0.1\n",
    "years = 12\n",
    "frequency = 2\n",
    "\n",
    "convexity_semi_annual_bond = bond_convexity(face_value, coupon_rate, ytm, years, frequency)\n",
    "print(f\"Convexity =  {convexity_semi_annual_bond:.2f}\")\n"
   ]
  },
  {
   "cell_type": "code",
   "execution_count": 89,
   "metadata": {},
   "outputs": [
    {
     "name": "stdout",
     "output_type": "stream",
     "text": [
      "Convexity (in years) = 49.40\n"
     ]
    }
   ],
   "source": [
    "convexity = 197.60\n",
    "\n",
    "convexity_years = convexity/2**2\n",
    "\n",
    "convexity_years\n",
    "print (f\"Convexity (in years) = {convexity_years:.2f}\")"
   ]
  }
 ],
 "metadata": {
  "kernelspec": {
   "display_name": "Python 3",
   "language": "python",
   "name": "python3"
  },
  "language_info": {
   "codemirror_mode": {
    "name": "ipython",
    "version": 3
   },
   "file_extension": ".py",
   "mimetype": "text/x-python",
   "name": "python",
   "nbconvert_exporter": "python",
   "pygments_lexer": "ipython3",
   "version": "3.10.7"
  },
  "orig_nbformat": 4
 },
 "nbformat": 4,
 "nbformat_minor": 2
}
