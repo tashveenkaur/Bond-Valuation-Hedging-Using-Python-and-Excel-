{
 "cells": [
  {
   "attachments": {},
   "cell_type": "markdown",
   "metadata": {},
   "source": [
    "Duration"
   ]
  },
  {
   "cell_type": "code",
   "execution_count": 1,
   "metadata": {},
   "outputs": [],
   "source": [
    "def bond_duration(face_value, coupon_rate, ytm, years, frequency):\n",
    "    total_periods = years * frequency\n",
    "    coupon_payment = face_value * coupon_rate / frequency\n",
    "    ytm_period = ytm / frequency\n",
    "\n",
    "    duration = 0\n",
    "    for t in range(1, total_periods + 1):\n",
    "        present_value = coupon_payment / ((1 + ytm_period)**t)\n",
    "        weighted_term = t * present_value\n",
    "        duration += weighted_term\n",
    "\n",
    "    # Calculate present value of the face value and add the weighted term to the duration\n",
    "    present_value_face_value = face_value / ((1 + ytm_period)**total_periods)\n",
    "    duration += total_periods * present_value_face_value\n",
    "\n",
    "    # Divide the sum of weighted terms by the bond's current price\n",
    "    bond_price = sum([coupon_payment / ((1 + ytm_period)**t) for t in range(1, total_periods + 1)]) + present_value_face_value\n",
    "    duration /= bond_price\n",
    "\n",
    "    return duration\n",
    "\n",
    "\n"
   ]
  },
  {
   "attachments": {},
   "cell_type": "markdown",
   "metadata": {},
   "source": [
    "Short Term Bond"
   ]
  },
  {
   "cell_type": "code",
   "execution_count": 2,
   "metadata": {},
   "outputs": [
    {
     "name": "stdout",
     "output_type": "stream",
     "text": [
      "Duration = 2.95\n"
     ]
    }
   ],
   "source": [
    "face_value = 100\n",
    "coupon_rate = 0.0177\n",
    "ytm = 0.0402\n",
    "years = 3\n",
    "frequency = 1\n",
    "\n",
    "duration_coupon_bond = bond_duration(face_value, coupon_rate, ytm, years, frequency)\n",
    "print(f\"Duration = {duration_coupon_bond:.2f}\")"
   ]
  },
  {
   "attachments": {},
   "cell_type": "markdown",
   "metadata": {},
   "source": [
    "Medium Term Bond"
   ]
  },
  {
   "cell_type": "code",
   "execution_count": 3,
   "metadata": {},
   "outputs": [
    {
     "name": "stdout",
     "output_type": "stream",
     "text": [
      "Duration = 5.69\n"
     ]
    }
   ],
   "source": [
    "face_value = 100\n",
    "coupon_rate = 0.02\n",
    "ytm = 0.0452\n",
    "years = 6\n",
    "frequency = 1\n",
    "\n",
    "duration_coupon_bond = bond_duration(face_value, coupon_rate, ytm, years, frequency)\n",
    "print(f\"Duration = {duration_coupon_bond:.2f}\")"
   ]
  },
  {
   "attachments": {},
   "cell_type": "markdown",
   "metadata": {},
   "source": [
    "Long Term Bond"
   ]
  },
  {
   "cell_type": "code",
   "execution_count": 4,
   "metadata": {},
   "outputs": [
    {
     "name": "stdout",
     "output_type": "stream",
     "text": [
      "Duration = 16.83\n"
     ]
    }
   ],
   "source": [
    "face_value = 100\n",
    "coupon_rate = 0.036\n",
    "ytm = 0.0493\n",
    "years = 28\n",
    "frequency = 1\n",
    "\n",
    "duration_coupon_bond = bond_duration(face_value, coupon_rate, ytm, years, frequency)\n",
    "print(f\"Duration = {duration_coupon_bond:.2f}\")"
   ]
  },
  {
   "attachments": {},
   "cell_type": "markdown",
   "metadata": {},
   "source": [
    "Convexity"
   ]
  },
  {
   "cell_type": "code",
   "execution_count": 5,
   "metadata": {},
   "outputs": [],
   "source": [
    "def bond_convexity(face_value, coupon_rate, ytm, years, frequency):\n",
    "    total_periods = years * frequency\n",
    "    coupon_payment = face_value * coupon_rate / frequency\n",
    "    ytm_period = ytm / frequency\n",
    "\n",
    "    convexity = 0\n",
    "    for t in range(1, total_periods + 1):\n",
    "        convexity += (t * (t + 1) * coupon_payment) / ((1 + ytm_period)**(t + 2))\n",
    "\n",
    "    # Adding the convexity contribution of the face value\n",
    "    convexity += (total_periods * (total_periods + 1) * face_value) / ((1 + ytm_period)**(total_periods + 2))\n",
    "\n",
    "    # Dividing the sum by the current price of bond\n",
    "    bond_price = sum([coupon_payment / ((1 + ytm_period)**t) for t in range(1, total_periods + 1)]) + face_value / ((1 + ytm_period)**total_periods)\n",
    "    convexity /= bond_price\n",
    "\n",
    "    return convexity\n"
   ]
  },
  {
   "attachments": {},
   "cell_type": "markdown",
   "metadata": {},
   "source": [
    "Short Term Bond"
   ]
  },
  {
   "cell_type": "code",
   "execution_count": 6,
   "metadata": {},
   "outputs": [
    {
     "name": "stdout",
     "output_type": "stream",
     "text": [
      "Convexity = 39.17\n"
     ]
    }
   ],
   "source": [
    "face_value = 100\n",
    "coupon_rate = 0.0175\n",
    "ytm = 0.04019\n",
    "years = 3\n",
    "frequency = 2\n",
    "\n",
    "\n",
    "convexity_semi_annual_bond = bond_convexity(face_value, coupon_rate, ytm, years, frequency)\n",
    "print(f\"Convexity = {convexity_semi_annual_bond:.2f}\")\n"
   ]
  },
  {
   "cell_type": "code",
   "execution_count": 7,
   "metadata": {},
   "outputs": [
    {
     "name": "stdout",
     "output_type": "stream",
     "text": [
      "Convexity (in years) = 9.79\n"
     ]
    }
   ],
   "source": [
    "Convexity = 39.17\n",
    "\n",
    "Convexity_years = Convexity/2**2\n",
    "\n",
    "print (f\"Convexity (in years) = {Convexity_years:.2f}\")\n"
   ]
  },
  {
   "attachments": {},
   "cell_type": "markdown",
   "metadata": {},
   "source": [
    "Medium Term Bond"
   ]
  },
  {
   "cell_type": "code",
   "execution_count": 8,
   "metadata": {},
   "outputs": [
    {
     "name": "stdout",
     "output_type": "stream",
     "text": [
      "Convexity =  137.84\n"
     ]
    }
   ],
   "source": [
    "face_value = 100\n",
    "coupon_rate = 0.02\n",
    "ytm = 0.0452\n",
    "years = 6\n",
    "frequency = 2\n",
    "\n",
    "convexity_semi_annual_bond = bond_convexity(face_value, coupon_rate, ytm, years, frequency)\n",
    "print(f\"Convexity =  {convexity_semi_annual_bond:.2f}\")\n"
   ]
  },
  {
   "cell_type": "code",
   "execution_count": 9,
   "metadata": {},
   "outputs": [
    {
     "name": "stdout",
     "output_type": "stream",
     "text": [
      "Convexity (in years) = 34.45\n"
     ]
    }
   ],
   "source": [
    "convexity = 137.82\n",
    "\n",
    "convexity_years = convexity/2**2\n",
    "\n",
    "convexity_years\n",
    "print (f\"Convexity (in years) = {convexity_years:.2f}\")"
   ]
  },
  {
   "attachments": {},
   "cell_type": "markdown",
   "metadata": {},
   "source": [
    "Long Term Bond"
   ]
  },
  {
   "cell_type": "code",
   "execution_count": 10,
   "metadata": {},
   "outputs": [
    {
     "name": "stdout",
     "output_type": "stream",
     "text": [
      "Convexity =  1464.70\n"
     ]
    }
   ],
   "source": [
    "face_value = 100\n",
    "coupon_rate = 0.0360\n",
    "ytm = 0.0493\n",
    "years = 28\n",
    "frequency = 2\n",
    "\n",
    "convexity_semi_annual_bond = bond_convexity(face_value, coupon_rate, ytm, years, frequency)\n",
    "print(f\"Convexity =  {convexity_semi_annual_bond:.2f}\")\n"
   ]
  },
  {
   "cell_type": "code",
   "execution_count": 11,
   "metadata": {},
   "outputs": [
    {
     "name": "stdout",
     "output_type": "stream",
     "text": [
      "Convexity (in years) = 366.18\n"
     ]
    }
   ],
   "source": [
    "convexity = 1464.7\n",
    "\n",
    "convexity_years = convexity/2**2\n",
    "\n",
    "convexity_years\n",
    "print (f\"Convexity (in years) = {convexity_years:.2f}\")"
   ]
  }
 ],
 "metadata": {
  "kernelspec": {
   "display_name": "Python 3",
   "language": "python",
   "name": "python3"
  },
  "language_info": {
   "codemirror_mode": {
    "name": "ipython",
    "version": 3
   },
   "file_extension": ".py",
   "mimetype": "text/x-python",
   "name": "python",
   "nbconvert_exporter": "python",
   "pygments_lexer": "ipython3",
   "version": "3.10.7"
  },
  "orig_nbformat": 4
 },
 "nbformat": 4,
 "nbformat_minor": 2
}
